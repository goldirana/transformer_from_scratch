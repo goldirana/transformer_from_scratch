{
 "cells": [
  {
   "cell_type": "markdown",
   "metadata": {},
   "source": [
    "#### It is good practice to visualize the number of tokens in each language and how long the sentences are."
   ]
  },
  {
   "cell_type": "code",
   "execution_count": 9,
   "metadata": {},
   "outputs": [],
   "source": [
    "!pip install -q matplotlib"
   ]
  },
  {
   "cell_type": "code",
   "execution_count": 10,
   "metadata": {},
   "outputs": [],
   "source": [
    "import tensorflow as tf\n",
    "import matplotlib.pyplot as plt\n",
    "import pickle"
   ]
  },
  {
   "cell_type": "code",
   "execution_count": 2,
   "metadata": {},
   "outputs": [],
   "source": [
    "# count tokens\n",
    "with open(\"text_pairs.pickle\", \"rb\") as f:\n",
    "    text_pairs = pickle.load(f)"
   ]
  },
  {
   "cell_type": "code",
   "execution_count": 4,
   "metadata": {},
   "outputs": [
    {
     "data": {
      "text/plain": [
       "[('go .', '[start] va  !  [end]'),\n",
       " ('hi .', '[start] salut  !  [end]'),\n",
       " ('run !', '[start] cours  !  [end]'),\n",
       " ('run !', '[start] courez  !  [end]'),\n",
       " ('who ?', '[start] qui  ?  [end]'),\n",
       " ('wow !', '[start] ça alors  !  [end]'),\n",
       " ('fire !', '[start] au feu  !  [end]'),\n",
       " ('help !', \"[start] à l'aide  !  [end]\"),\n",
       " ('jump .', '[start] saute . [end]'),\n",
       " ('stop !', '[start] ça suffit  !  [end]')]"
      ]
     },
     "execution_count": 4,
     "metadata": {},
     "output_type": "execute_result"
    }
   ],
   "source": [
    "text_pairs[0:10]"
   ]
  },
  {
   "cell_type": "code",
   "execution_count": 5,
   "metadata": {},
   "outputs": [
    {
     "data": {
      "text/plain": [
       "45"
      ]
     },
     "execution_count": 5,
     "metadata": {},
     "output_type": "execute_result"
    }
   ],
   "source": []
  },
  {
   "cell_type": "code",
   "execution_count": 6,
   "metadata": {},
   "outputs": [
    {
     "name": "stdout",
     "output_type": "stream",
     "text": [
      "Total English tokens: 14969\n",
      "Total French tokens: 29219\n",
      "Max English length: 51\n",
      "Max French length: 60\n",
      "167130 total pairs\n"
     ]
    }
   ],
   "source": [
    "eng_tokens, fra_tokens = set(), set()\n",
    "eng_maxlen, fra_maxlen = 0, 0\n",
    "\n",
    "for eng, fra in text_pairs:\n",
    "    eng_tok, fra_tok = eng.split(), fra.split()\n",
    "    eng_maxlen = max(eng_maxlen, len(eng_tok))\n",
    "    fra_maxlen = max(fra_maxlen, len(fra_tok))\n",
    "    eng_tokens.update(eng_tok)\n",
    "    fra_tokens.update(fra_tok)\n",
    "print(f\"Total English tokens: {len(eng_tokens)}\")\n",
    "print(f\"Total French tokens: {len(fra_tokens)}\")\n",
    "print(f\"Max English length: {eng_maxlen}\")\n",
    "print(f\"Max French length: {fra_maxlen}\")\n",
    "print(f\"{len(text_pairs)} total pairs\")\n",
    "    "
   ]
  },
  {
   "cell_type": "code",
   "execution_count": 11,
   "metadata": {},
   "outputs": [
    {
     "data": {
      "image/png": "[encoded data removed]",
      "text/plain": [
       "<Figure size 640x480 with 1 Axes>"
      ]
     },
     "metadata": {},
     "output_type": "display_data"
    }
   ],
   "source": [
    "# histogram of sentence length in tokens\n",
    "en_lengths = [len(eng.split()) for eng, fra in text_pairs]\n",
    "fr_lengths = [len(fra.split()) for eng, fra in text_pairs]\n",
    "plt.hist(en_lengths, label=\"en\", color=\"red\", alpha=0.33)\n",
    "plt.hist(fr_lengths, label=\"fr\", color=\"blue\", alpha=0.33)\n",
    "plt.yscale(\"log\")     # sentence length fits Benford\"s law\n",
    "plt.ylim(plt.ylim())  # make y-axis consistent for both plots\n",
    "plt.plot([max(en_lengths), max(en_lengths)], plt.ylim(), color=\"red\")\n",
    "plt.plot([max(fr_lengths), max(fr_lengths)], plt.ylim(), color=\"blue\")\n",
    "plt.legend()\n",
    "plt.title(\"Examples count vs Token length\")\n",
    "plt.show()"
   ]
  },
  {
   "cell_type": "code",
   "execution_count": null,
   "metadata": {},
   "outputs": [],
   "source": []
  }
 ],
 "metadata": {
  "kernelspec": {
   "display_name": "langchain",
   "language": "python",
   "name": "python3"
  },
  "language_info": {
   "codemirror_mode": {
    "name": "ipython",
    "version": 3
   },
   "file_extension": ".py",
   "mimetype": "text/x-python",
   "name": "python",
   "nbconvert_exporter": "python",
   "pygments_lexer": "ipython3",
   "version": "3.9.18"
  }
 },
 "nbformat": 4,
 "nbformat_minor": 2
}
